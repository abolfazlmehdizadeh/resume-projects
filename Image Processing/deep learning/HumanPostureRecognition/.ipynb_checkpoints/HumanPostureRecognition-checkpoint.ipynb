{
 "cells": [
  {
   "cell_type": "code",
   "execution_count": 2,
   "id": "99b0de15-5fc7-459f-a0a6-36dcbe9ae565",
   "metadata": {},
   "outputs": [
    {
     "name": "stderr",
     "output_type": "stream",
     "text": [
      "I0000 00:00:1727779313.103399   27657 gl_context_egl.cc:85] Successfully initialized EGL. Major : 1 Minor: 5\n",
      "I0000 00:00:1727779313.106240   27796 gl_context.cc:357] GL version: 3.2 (OpenGL ES 3.2 Mesa 24.2.2-arch1.1), renderer: Mesa Intel(R) HD Graphics 515 (SKL GT2)\n",
      "W0000 00:00:1727779313.226647   27793 inference_feedback_manager.cc:114] Feedback manager requires a model with a single signature inference. Disabling support for feedback tensors.\n",
      "W0000 00:00:1727779313.264297   27791 inference_feedback_manager.cc:114] Feedback manager requires a model with a single signature inference. Disabling support for feedback tensors.\n"
     ]
    }
   ],
   "source": [
    "import cv2 as cv\n",
    "import mediapipe as mp\n",
    "\n",
    "\n",
    "mp_pose = mp.solutions.pose\n",
    "pose = mp_pose.Pose()\n",
    "mp_drawing = mp.solutions.drawing_utils\n",
    "\n",
    "path_video = '1.mp4'\n",
    "cap = cv.VideoCapture(path_video)\n",
    "\n",
    "while cap.isOpened():\n",
    "    ret, frame = cap.read()\n",
    "    if not ret:\n",
    "        break\n",
    "\n",
    "    \n",
    "    image_rgb = cv.cvtColor(frame, cv.COLOR_BGR2RGB)\n",
    "    results = pose.process(image_rgb)\n",
    "\n",
    "    if results.pose_landmarks:\n",
    "\n",
    "        \n",
    "        mp_drawing.draw_landmarks(frame, results.pose_landmarks, mp_pose.POSE_CONNECTIONS)\n",
    "\n",
    "        \n",
    "        landmarks = results.pose_landmarks.landmark\n",
    "\n",
    "      \n",
    "        left_hip = [landmarks[mp_pose.PoseLandmark.LEFT_HIP].x, landmarks[mp_pose.PoseLandmark.LEFT_HIP].y]\n",
    "        right_hip = [landmarks[mp_pose.PoseLandmark.RIGHT_HIP].x, landmarks[mp_pose.PoseLandmark.RIGHT_HIP].y]\n",
    "        left_knee = [landmarks[mp_pose.PoseLandmark.LEFT_KNEE].x, landmarks[mp_pose.PoseLandmark.LEFT_KNEE].y]\n",
    "        right_knee = [landmarks[mp_pose.PoseLandmark.RIGHT_KNEE].x, landmarks[mp_pose.PoseLandmark.RIGHT_KNEE].y]\n",
    "\n",
    "\n",
    "        left_vertical_distance = abs(left_hip[1] - left_knee[1])\n",
    "        right_vertical_distance = abs(right_hip[1] - right_knee[1])\n",
    "\n",
    "\n",
    "        left_horizontal_distance = abs(left_hip[0] - left_knee[0])\n",
    "        right_horizontal_distance = abs(right_hip[0] - right_knee[0])\n",
    "\n",
    "        if left_vertical_distance < 0.1 and right_vertical_distance < 0.1 and \\\n",
    "           left_horizontal_distance > 0.1 and right_horizontal_distance > 0.1:\n",
    "            posture = \"neshaste\"\n",
    "        else:\n",
    "            posture = \"estade\"\n",
    "            \n",
    "        cv.putText(frame, posture, (50, 50), cv.FONT_HERSHEY_SIMPLEX, 1, (0, 255, 0), 2, cv.LINE_AA)\n",
    "\n",
    "    cv.imshow('man', frame)\n",
    "    \n",
    "    if cv.waitKey(10) & 0xFF == ord('q'):\n",
    "        break\n",
    "\n",
    "\n",
    "cap.release()\n",
    "cv.destroyAllWindows()"
   ]
  }
 ],
 "metadata": {
  "kernelspec": {
   "display_name": "Python 3 (ipykernel)",
   "language": "python",
   "name": "python3"
  },
  "language_info": {
   "codemirror_mode": {
    "name": "ipython",
    "version": 3
   },
   "file_extension": ".py",
   "mimetype": "text/x-python",
   "name": "python",
   "nbconvert_exporter": "python",
   "pygments_lexer": "ipython3",
   "version": "3.12.5"
  }
 },
 "nbformat": 4,
 "nbformat_minor": 5
}
