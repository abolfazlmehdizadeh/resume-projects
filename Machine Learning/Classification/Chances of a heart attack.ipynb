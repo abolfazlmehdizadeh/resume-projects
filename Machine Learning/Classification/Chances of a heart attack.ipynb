{
 "cells": [
  {
   "cell_type": "markdown",
   "id": "ce48c91f-f325-4f8b-af81-89bf6461eade",
   "metadata": {},
   "source": [
    "<br/>\n",
    "<br/>\n",
    "<center>\n",
    "    <h2>Chances of a heart attack<h2/>\n",
    "    <h4>(Classification)<h4/>\n",
    "<center/>\n",
    "<br/>"
   ]
  },
  {
   "cell_type": "markdown",
   "id": "55da5745-f70c-4727-b690-1d11380b7c90",
   "metadata": {},
   "source": [
    "<h4>import packges<h4/>"
   ]
  },
  {
   "cell_type": "code",
   "execution_count": 33,
   "id": "ffe31231-3937-4e7d-8365-1f0ff0c636b2",
   "metadata": {},
   "outputs": [],
   "source": [
    "import pandas as pd\n",
    "import matplotlib as plt\n",
    "from sklearn.preprocessing import StandardScaler\n",
    "from sklearn import metrics"
   ]
  },
  {
   "cell_type": "markdown",
   "id": "b95bb338-3976-4d43-998c-e84cc6f887c2",
   "metadata": {},
   "source": [
    "<br/>\n",
    "<h4>read data<h4/>"
   ]
  },
  {
   "cell_type": "code",
   "execution_count": 34,
   "id": "1f9198bb-aeef-493d-b51c-818ec46545ab",
   "metadata": {},
   "outputs": [
    {
     "data": {
      "text/html": [
       "<div>\n",
       "<style scoped>\n",
       "    .dataframe tbody tr th:only-of-type {\n",
       "        vertical-align: middle;\n",
       "    }\n",
       "\n",
       "    .dataframe tbody tr th {\n",
       "        vertical-align: top;\n",
       "    }\n",
       "\n",
       "    .dataframe thead th {\n",
       "        text-align: right;\n",
       "    }\n",
       "</style>\n",
       "<table border=\"1\" class=\"dataframe\">\n",
       "  <thead>\n",
       "    <tr style=\"text-align: right;\">\n",
       "      <th></th>\n",
       "      <th>age</th>\n",
       "      <th>sex</th>\n",
       "      <th>cp</th>\n",
       "      <th>trtbps</th>\n",
       "      <th>chol</th>\n",
       "      <th>fbs</th>\n",
       "      <th>restecg</th>\n",
       "      <th>thalachh</th>\n",
       "      <th>exng</th>\n",
       "      <th>oldpeak</th>\n",
       "      <th>slp</th>\n",
       "      <th>caa</th>\n",
       "      <th>thall</th>\n",
       "      <th>output</th>\n",
       "    </tr>\n",
       "  </thead>\n",
       "  <tbody>\n",
       "    <tr>\n",
       "      <th>count</th>\n",
       "      <td>303.000000</td>\n",
       "      <td>303.000000</td>\n",
       "      <td>303.000000</td>\n",
       "      <td>303.000000</td>\n",
       "      <td>303.000000</td>\n",
       "      <td>303.000000</td>\n",
       "      <td>303.000000</td>\n",
       "      <td>303.000000</td>\n",
       "      <td>303.000000</td>\n",
       "      <td>303.000000</td>\n",
       "      <td>303.000000</td>\n",
       "      <td>303.000000</td>\n",
       "      <td>303.000000</td>\n",
       "      <td>303.000000</td>\n",
       "    </tr>\n",
       "    <tr>\n",
       "      <th>mean</th>\n",
       "      <td>54.366337</td>\n",
       "      <td>0.683168</td>\n",
       "      <td>0.966997</td>\n",
       "      <td>131.623762</td>\n",
       "      <td>246.264026</td>\n",
       "      <td>0.148515</td>\n",
       "      <td>0.528053</td>\n",
       "      <td>149.646865</td>\n",
       "      <td>0.326733</td>\n",
       "      <td>1.039604</td>\n",
       "      <td>1.399340</td>\n",
       "      <td>0.729373</td>\n",
       "      <td>2.313531</td>\n",
       "      <td>0.544554</td>\n",
       "    </tr>\n",
       "    <tr>\n",
       "      <th>std</th>\n",
       "      <td>9.082101</td>\n",
       "      <td>0.466011</td>\n",
       "      <td>1.032052</td>\n",
       "      <td>17.538143</td>\n",
       "      <td>51.830751</td>\n",
       "      <td>0.356198</td>\n",
       "      <td>0.525860</td>\n",
       "      <td>22.905161</td>\n",
       "      <td>0.469794</td>\n",
       "      <td>1.161075</td>\n",
       "      <td>0.616226</td>\n",
       "      <td>1.022606</td>\n",
       "      <td>0.612277</td>\n",
       "      <td>0.498835</td>\n",
       "    </tr>\n",
       "    <tr>\n",
       "      <th>min</th>\n",
       "      <td>29.000000</td>\n",
       "      <td>0.000000</td>\n",
       "      <td>0.000000</td>\n",
       "      <td>94.000000</td>\n",
       "      <td>126.000000</td>\n",
       "      <td>0.000000</td>\n",
       "      <td>0.000000</td>\n",
       "      <td>71.000000</td>\n",
       "      <td>0.000000</td>\n",
       "      <td>0.000000</td>\n",
       "      <td>0.000000</td>\n",
       "      <td>0.000000</td>\n",
       "      <td>0.000000</td>\n",
       "      <td>0.000000</td>\n",
       "    </tr>\n",
       "    <tr>\n",
       "      <th>25%</th>\n",
       "      <td>47.500000</td>\n",
       "      <td>0.000000</td>\n",
       "      <td>0.000000</td>\n",
       "      <td>120.000000</td>\n",
       "      <td>211.000000</td>\n",
       "      <td>0.000000</td>\n",
       "      <td>0.000000</td>\n",
       "      <td>133.500000</td>\n",
       "      <td>0.000000</td>\n",
       "      <td>0.000000</td>\n",
       "      <td>1.000000</td>\n",
       "      <td>0.000000</td>\n",
       "      <td>2.000000</td>\n",
       "      <td>0.000000</td>\n",
       "    </tr>\n",
       "    <tr>\n",
       "      <th>50%</th>\n",
       "      <td>55.000000</td>\n",
       "      <td>1.000000</td>\n",
       "      <td>1.000000</td>\n",
       "      <td>130.000000</td>\n",
       "      <td>240.000000</td>\n",
       "      <td>0.000000</td>\n",
       "      <td>1.000000</td>\n",
       "      <td>153.000000</td>\n",
       "      <td>0.000000</td>\n",
       "      <td>0.800000</td>\n",
       "      <td>1.000000</td>\n",
       "      <td>0.000000</td>\n",
       "      <td>2.000000</td>\n",
       "      <td>1.000000</td>\n",
       "    </tr>\n",
       "    <tr>\n",
       "      <th>75%</th>\n",
       "      <td>61.000000</td>\n",
       "      <td>1.000000</td>\n",
       "      <td>2.000000</td>\n",
       "      <td>140.000000</td>\n",
       "      <td>274.500000</td>\n",
       "      <td>0.000000</td>\n",
       "      <td>1.000000</td>\n",
       "      <td>166.000000</td>\n",
       "      <td>1.000000</td>\n",
       "      <td>1.600000</td>\n",
       "      <td>2.000000</td>\n",
       "      <td>1.000000</td>\n",
       "      <td>3.000000</td>\n",
       "      <td>1.000000</td>\n",
       "    </tr>\n",
       "    <tr>\n",
       "      <th>max</th>\n",
       "      <td>77.000000</td>\n",
       "      <td>1.000000</td>\n",
       "      <td>3.000000</td>\n",
       "      <td>200.000000</td>\n",
       "      <td>564.000000</td>\n",
       "      <td>1.000000</td>\n",
       "      <td>2.000000</td>\n",
       "      <td>202.000000</td>\n",
       "      <td>1.000000</td>\n",
       "      <td>6.200000</td>\n",
       "      <td>2.000000</td>\n",
       "      <td>4.000000</td>\n",
       "      <td>3.000000</td>\n",
       "      <td>1.000000</td>\n",
       "    </tr>\n",
       "  </tbody>\n",
       "</table>\n",
       "</div>"
      ],
      "text/plain": [
       "              age         sex          cp      trtbps        chol         fbs  \\\n",
       "count  303.000000  303.000000  303.000000  303.000000  303.000000  303.000000   \n",
       "mean    54.366337    0.683168    0.966997  131.623762  246.264026    0.148515   \n",
       "std      9.082101    0.466011    1.032052   17.538143   51.830751    0.356198   \n",
       "min     29.000000    0.000000    0.000000   94.000000  126.000000    0.000000   \n",
       "25%     47.500000    0.000000    0.000000  120.000000  211.000000    0.000000   \n",
       "50%     55.000000    1.000000    1.000000  130.000000  240.000000    0.000000   \n",
       "75%     61.000000    1.000000    2.000000  140.000000  274.500000    0.000000   \n",
       "max     77.000000    1.000000    3.000000  200.000000  564.000000    1.000000   \n",
       "\n",
       "          restecg    thalachh        exng     oldpeak         slp         caa  \\\n",
       "count  303.000000  303.000000  303.000000  303.000000  303.000000  303.000000   \n",
       "mean     0.528053  149.646865    0.326733    1.039604    1.399340    0.729373   \n",
       "std      0.525860   22.905161    0.469794    1.161075    0.616226    1.022606   \n",
       "min      0.000000   71.000000    0.000000    0.000000    0.000000    0.000000   \n",
       "25%      0.000000  133.500000    0.000000    0.000000    1.000000    0.000000   \n",
       "50%      1.000000  153.000000    0.000000    0.800000    1.000000    0.000000   \n",
       "75%      1.000000  166.000000    1.000000    1.600000    2.000000    1.000000   \n",
       "max      2.000000  202.000000    1.000000    6.200000    2.000000    4.000000   \n",
       "\n",
       "            thall      output  \n",
       "count  303.000000  303.000000  \n",
       "mean     2.313531    0.544554  \n",
       "std      0.612277    0.498835  \n",
       "min      0.000000    0.000000  \n",
       "25%      2.000000    0.000000  \n",
       "50%      2.000000    1.000000  \n",
       "75%      3.000000    1.000000  \n",
       "max      3.000000    1.000000  "
      ]
     },
     "execution_count": 34,
     "metadata": {},
     "output_type": "execute_result"
    }
   ],
   "source": [
    "data : pd.DataFrame  = pd.read_csv('heart.csv')\n",
    "data.describe()\n"
   ]
  },
  {
   "cell_type": "markdown",
   "id": "2af4c334-0cfb-4d92-a69a-a6f4868016fc",
   "metadata": {},
   "source": [
    "<br/>\n",
    "<h4>Removing some features that are not very important and create a new df<h4/>"
   ]
  },
  {
   "cell_type": "code",
   "execution_count": 35,
   "id": "30d4bab2-4704-4fcf-9613-e22a077d4cf1",
   "metadata": {},
   "outputs": [
    {
     "data": {
      "text/plain": [
       "output\n",
       "1    165\n",
       "0    138\n",
       "Name: count, dtype: int64"
      ]
     },
     "execution_count": 35,
     "metadata": {},
     "output_type": "execute_result"
    }
   ],
   "source": [
    "df = data[['age', 'sex', 'cp', 'trtbps', 'chol', 'thalachh', 'oldpeak', 'caa', 'thall', 'output']]\n",
    "\n",
    "\n",
    "# convert df to normal matrix\n",
    "x = df[['age', 'sex', 'cp', 'trtbps', 'chol', 'thalachh', 'oldpeak', 'caa', 'thall']].values\n",
    "y = df[['output']].values\n",
    "\n",
    "df.output.value_counts()"
   ]
  },
  {
   "cell_type": "markdown",
   "id": "ec08368c-0f60-4dfe-aa48-0373bf4cd62e",
   "metadata": {},
   "source": [
    "<br/>\n",
    "<h4>normalizing data<h4/>"
   ]
  },
  {
   "cell_type": "code",
   "execution_count": 36,
   "id": "8a2399c5-adde-41e4-bf3b-0b427b716b84",
   "metadata": {},
   "outputs": [],
   "source": [
    "scaler = StandardScaler().fit(x)\n",
    "nx = scaler.transform(x.astype(float))"
   ]
  },
  {
   "cell_type": "markdown",
   "id": "a3570b1b-c803-4925-9dab-8767616fe90f",
   "metadata": {},
   "source": [
    "<br/>\n",
    "<h4>split test and tran data 20 80<h4/>"
   ]
  },
  {
   "cell_type": "code",
   "execution_count": 37,
   "id": "fadcc10d-716b-4bb8-be25-7b3d8bae971c",
   "metadata": {},
   "outputs": [],
   "source": [
    "from sklearn.model_selection import train_test_split\n",
    "\n",
    "x_tr, x_te, y_tr, y_te = train_test_split(nx, y, test_size=0.25, random_state=5) "
   ]
  },
  {
   "cell_type": "markdown",
   "id": "61d9fa30-4bb2-4897-bbc1-be34f7165a5f",
   "metadata": {},
   "source": [
    "<br/>\n",
    "<h3>1-LogisticRegression<h3/>\n",
    "<h4>train model<h4/>"
   ]
  },
  {
   "cell_type": "code",
   "execution_count": 38,
   "id": "a9707576-218b-4ea8-bd76-579e74885051",
   "metadata": {},
   "outputs": [
    {
     "name": "stdout",
     "output_type": "stream",
     "text": [
      "[1 0 0 0 1 0 1] [0 0 0 0 1 0 1]\n"
     ]
    }
   ],
   "source": [
    "from sklearn.linear_model import LogisticRegression\n",
    "from sklearn.metrics import confusion_matrix\n",
    "LR = LogisticRegression(C=0.01, solver='liblinear').fit(x_tr, y_tr.ravel())\n",
    "yhl = LR.predict(x_te)\n",
    "print(yhl[0:7], y_te[0:7].ravel())"
   ]
  },
  {
   "cell_type": "markdown",
   "id": "ea8e802e-97e3-4929-a9ef-47e29d8e3999",
   "metadata": {},
   "source": [
    "<br/>\n",
    "<h4>test model logistic regression<h4/>"
   ]
  },
  {
   "cell_type": "code",
   "execution_count": 39,
   "id": "4d5c47bf-e168-4379-a165-8a61bec400ed",
   "metadata": {},
   "outputs": [
    {
     "name": "stdout",
     "output_type": "stream",
     "text": [
      "              precision    recall  f1-score   support\n",
      "\n",
      "           0       0.94      0.89      0.92        38\n",
      "           1       0.90      0.95      0.92        38\n",
      "\n",
      "    accuracy                           0.92        76\n",
      "   macro avg       0.92      0.92      0.92        76\n",
      "weighted avg       0.92      0.92      0.92        76\n",
      "\n"
     ]
    }
   ],
   "source": [
    "from sklearn.metrics import classification_report as report\n",
    "print(report(y_te, yhl))"
   ]
  },
  {
   "cell_type": "markdown",
   "id": "b7ea6653-176b-45ef-9f63-30aacad28653",
   "metadata": {},
   "source": [
    "<br/>\n",
    "<h2>plotting data<h2/>"
   ]
  },
  {
   "cell_type": "code",
   "execution_count": 40,
   "id": "08961e0d-0df6-4a56-ba89-dd4da20c338c",
   "metadata": {},
   "outputs": [
    {
     "name": "stdout",
     "output_type": "stream",
     "text": [
      "Confusion matrix, without normalization\n",
      "[[36  2]\n",
      " [ 4 34]]\n"
     ]
    },
    {
     "data": {
      "image/png": "[encoded data removed]",
      "text/plain": [
       "<Figure size 640x480 with 2 Axes>"
      ]
     },
     "metadata": {},
     "output_type": "display_data"
    }
   ],
   "source": [
    "from sklearn.metrics import classification_report, confusion_matrix\n",
    "import itertools\n",
    "import numpy as np\n",
    "import matplotlib.pyplot as plt\n",
    "def plot_confusion_matrix(cm, classes,\n",
    "                          normalize=False,\n",
    "                          title='Confusion matrix',\n",
    "                          cmap=plt.cm.Blues):\n",
    "    if normalize:\n",
    "        cm = cm.astype('float') / cm.sum(axis=1)[:, np.newaxis]\n",
    "        print(\"Normalized confusion matrix\")\n",
    "    else:\n",
    "        print('Confusion matrix, without normalization')\n",
    "\n",
    "    print(cm)\n",
    "\n",
    "    plt.imshow(cm, interpolation='nearest', cmap=cmap)\n",
    "    plt.title(title)\n",
    "    plt.colorbar()\n",
    "    tick_marks = np.arange(len(classes))\n",
    "    plt.xticks(tick_marks, classes, rotation=45)\n",
    "    plt.yticks(tick_marks, classes)\n",
    "\n",
    "    fmt = '.2f' if normalize else 'd'\n",
    "    thresh = cm.max() / 2.\n",
    "    for i, j in itertools.product(range(cm.shape[0]), range(cm.shape[1])):\n",
    "        plt.text(j, i, format(cm[i, j], fmt),\n",
    "                 horizontalalignment=\"center\",\n",
    "                 color=\"white\" if cm[i, j] > thresh else \"black\")\n",
    "\n",
    "    plt.tight_layout()\n",
    "    plt.ylabel('True label')\n",
    "    plt.xlabel('Predicted label')\n",
    "\n",
    "\n",
    "cnf_matrix_l = confusion_matrix(y_te, yhl, labels=[1,0])\n",
    "\n",
    "\n",
    "plt.figure()\n",
    "plot_confusion_matrix(cnf_matrix_l, classes=['lot of chance','little chance'])"
   ]
  },
  {
   "cell_type": "markdown",
   "id": "99bf3d8a-7913-4ef1-ac55-d9164983817c",
   "metadata": {},
   "source": [
    "<br/>\n",
    "<center>---------------------------------------------------------------------------------------------------------------<center/>\n",
    "<br/>"
   ]
  },
  {
   "cell_type": "markdown",
   "id": "078ed9f7-355c-49fe-bd6d-ca2a103049ce",
   "metadata": {},
   "source": [
    "<br/>\n",
    "<h3>2-Knn<h3/>\n",
    "<h4>train model<h4/>"
   ]
  },
  {
   "cell_type": "code",
   "execution_count": 41,
   "id": "963024fe-e8e1-473c-a631-a3777b42d3ac",
   "metadata": {},
   "outputs": [
    {
     "name": "stdout",
     "output_type": "stream",
     "text": [
      "[1 0 0 0 1 0 0] [0 0 0 0 1 0 1]\n"
     ]
    }
   ],
   "source": [
    "from sklearn.neighbors import KNeighborsClassifier\n",
    "k = 4\n",
    "neigh = KNeighborsClassifier(n_neighbors = k).fit(x_tr,y_tr.ravel())\n",
    "yhk = neigh.predict(x_te)\n",
    "print(yhk[0:7], y_te[0:7].ravel())"
   ]
  },
  {
   "cell_type": "markdown",
   "id": "a6a4b629-29cf-4a7c-a39f-76669abd7c7e",
   "metadata": {},
   "source": [
    "<br/>\n",
    "<h4>test model knn<h4/>"
   ]
  },
  {
   "cell_type": "code",
   "execution_count": 42,
   "id": "306ec2dc-a04f-4b38-9f1e-acac854cbd34",
   "metadata": {},
   "outputs": [
    {
     "name": "stdout",
     "output_type": "stream",
     "text": [
      "              precision    recall  f1-score   support\n",
      "\n",
      "           0       0.85      0.87      0.86        38\n",
      "           1       0.86      0.84      0.85        38\n",
      "\n",
      "    accuracy                           0.86        76\n",
      "   macro avg       0.86      0.86      0.86        76\n",
      "weighted avg       0.86      0.86      0.86        76\n",
      "\n",
      "Confusion matrix, without normalization\n",
      "[[32  6]\n",
      " [ 5 33]]\n"
     ]
    },
    {
     "data": {
      "image/png": "[encoded data removed]",
      "text/plain": [
       "<Figure size 640x480 with 2 Axes>"
      ]
     },
     "metadata": {},
     "output_type": "display_data"
    }
   ],
   "source": [
    "from sklearn.metrics import classification_report as report\n",
    "print(report(y_te, yhk))\n",
    "\n",
    "cnf_matrix_k = confusion_matrix(y_te, yhk, labels=[1,0])\n",
    "\n",
    "\n",
    "plt.figure()\n",
    "plot_confusion_matrix(cnf_matrix_k, classes=['lot of chance','little chance'])"
   ]
  },
  {
   "cell_type": "markdown",
   "id": "d1a9a39b-9a57-4653-9aca-af671769f194",
   "metadata": {},
   "source": [
    "<br/>\n",
    "<center>---------------------------------------------------------------------------------------------------------------<center/>\n",
    "<br/>"
   ]
  },
  {
   "cell_type": "markdown",
   "id": "d1e40350-4024-4d76-89a1-58e9637d07ea",
   "metadata": {},
   "source": [
    "<br/>\n",
    "<h3>3-SVM<h3/>\n",
    "<h4>train model<h4/>"
   ]
  },
  {
   "cell_type": "code",
   "execution_count": 43,
   "id": "d502d0f7-e720-4f91-aeeb-e3ff0a943dff",
   "metadata": {},
   "outputs": [
    {
     "name": "stdout",
     "output_type": "stream",
     "text": [
      "[1 0 0 0 1 0 1] [0 0 0 0 1 0 1]\n"
     ]
    }
   ],
   "source": [
    "from sklearn import svm\n",
    "clf = svm.SVC(kernel='rbf')\n",
    "clf.fit(x_tr, y_tr.ravel()) \n",
    "yhs = clf.predict(x_te)\n",
    "print(yhs[0:7], y_te[0:7].ravel())"
   ]
  },
  {
   "cell_type": "markdown",
   "id": "31eda640-3259-4f36-93bb-842f549a7ada",
   "metadata": {},
   "source": [
    "<br/>\n",
    "<h4>test model svm<h4/>"
   ]
  },
  {
   "cell_type": "code",
   "execution_count": 44,
   "id": "d559557a-4148-4833-a120-55919eb1ee99",
   "metadata": {},
   "outputs": [
    {
     "name": "stdout",
     "output_type": "stream",
     "text": [
      "              precision    recall  f1-score   support\n",
      "\n",
      "           0       0.94      0.87      0.90        38\n",
      "           1       0.88      0.95      0.91        38\n",
      "\n",
      "    accuracy                           0.91        76\n",
      "   macro avg       0.91      0.91      0.91        76\n",
      "weighted avg       0.91      0.91      0.91        76\n",
      "\n",
      "Confusion matrix, without normalization\n",
      "[[32  6]\n",
      " [ 5 33]]\n"
     ]
    },
    {
     "data": {
      "image/png": "[encoded data removed]",
      "text/plain": [
       "<Figure size 640x480 with 2 Axes>"
      ]
     },
     "metadata": {},
     "output_type": "display_data"
    }
   ],
   "source": [
    "from sklearn.metrics import classification_report as report\n",
    "print(report(y_te, yhs))\n",
    "\n",
    "cnf_matrix_s = confusion_matrix(y_te, yhk, labels=[1,0])\n",
    "\n",
    "plt.figure()\n",
    "plot_confusion_matrix(cnf_matrix_s, classes=['lot of chance','little chance'])"
   ]
  },
  {
   "cell_type": "markdown",
   "id": "62cb01a0-8b75-4203-8aa8-e0aa7ab1555f",
   "metadata": {},
   "source": [
    "<br/>\n",
    "<center>---------------------------------------------------------------------------------------------------------------<center/>\n",
    "<br/>"
   ]
  },
  {
   "cell_type": "markdown",
   "id": "06440117-26a8-4992-9456-bee05bd5974c",
   "metadata": {},
   "source": [
    "<br/>\n",
    "<h3>4-Decision Trees<h3/>\n",
    "<h4>train model<h4/>\n"
   ]
  },
  {
   "cell_type": "code",
   "execution_count": 45,
   "id": "9cc6f08f-dd56-40ce-9d6a-bbcf41ef2007",
   "metadata": {},
   "outputs": [
    {
     "name": "stdout",
     "output_type": "stream",
     "text": [
      "[1 0 0 1 0 0 1] [0 0 0 0 1 0 1]\n"
     ]
    }
   ],
   "source": [
    "from sklearn.tree import DecisionTreeClassifier\n",
    "\n",
    "drugTree = DecisionTreeClassifier(criterion=\"entropy\", max_depth = 4)\n",
    "drugTree.fit(x_tr, y_tr.ravel())\n",
    "yhd = drugTree.predict(x_te)\n",
    "print(yhd[0:7], y_te[0:7].ravel())\n"
   ]
  },
  {
   "cell_type": "markdown",
   "id": "c8e933d9-5c8d-41d8-9351-03bb7499a8e2",
   "metadata": {},
   "source": [
    "<br/>\n",
    "<h4>test model Decision Trees<h4/>"
   ]
  },
  {
   "cell_type": "code",
   "execution_count": 46,
   "id": "82a49158-5954-41f7-b3fa-374689b0a3cd",
   "metadata": {},
   "outputs": [
    {
     "name": "stdout",
     "output_type": "stream",
     "text": [
      "              precision    recall  f1-score   support\n",
      "\n",
      "           0       0.91      0.79      0.85        38\n",
      "           1       0.81      0.92      0.86        38\n",
      "\n",
      "    accuracy                           0.86        76\n",
      "   macro avg       0.86      0.86      0.85        76\n",
      "weighted avg       0.86      0.86      0.85        76\n",
      "\n",
      "Confusion matrix, without normalization\n",
      "[[35  3]\n",
      " [ 8 30]]\n"
     ]
    },
    {
     "data": {
      "image/png": "[encoded data removed]",
      "text/plain": [
       "<Figure size 640x480 with 2 Axes>"
      ]
     },
     "metadata": {},
     "output_type": "display_data"
    }
   ],
   "source": [
    "from sklearn.metrics import classification_report as report\n",
    "print(report(y_te, yhd))\n",
    "\n",
    "cnf_matrix_d = confusion_matrix(y_te, yhd, labels=[1,0])\n",
    "\n",
    "plt.figure()\n",
    "plot_confusion_matrix(cnf_matrix_d, classes=['lot of chance','little chance'])"
   ]
  }
 ],
 "metadata": {
  "kernelspec": {
   "display_name": "Python 3 (ipykernel)",
   "language": "python",
   "name": "python3"
  },
  "language_info": {
   "codemirror_mode": {
    "name": "ipython",
    "version": 3
   },
   "file_extension": ".py",
   "mimetype": "text/x-python",
   "name": "python",
   "nbconvert_exporter": "python",
   "pygments_lexer": "ipython3",
   "version": "3.12.3"
  }
 },
 "nbformat": 4,
 "nbformat_minor": 5
}
